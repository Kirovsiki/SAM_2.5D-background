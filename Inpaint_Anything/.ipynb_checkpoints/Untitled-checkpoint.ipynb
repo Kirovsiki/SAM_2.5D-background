{
 "cells": [
  {
   "cell_type": "code",
   "execution_count": 2,
   "id": "ea4146d7",
   "metadata": {},
   "outputs": [],
   "source": [
    "import sys\n",
    "import numpy as np\n",
    "from pathlib import Path\n",
    "from matplotlib import pyplot as plt\n",
    "from typing import Any, Dict, List\n",
    "import torch\n",
    "from PIL import Image\n",
    "import matplotlib\n",
    "%matplotlib inline\n",
    "\n",
    "from segment_anything import SamPredictor, sam_model_registry\n",
    "from utils import load_img_to_array, save_array_to_img, dilate_mask, \\\n",
    "    show_mask, show_points\n"
   ]
  },
  {
   "cell_type": "code",
   "execution_count": null,
   "id": "2a09cd13",
   "metadata": {},
   "outputs": [],
   "source": []
  }
 ],
 "metadata": {
  "kernelspec": {
   "display_name": "Python 3 (ipykernel)",
   "language": "python",
   "name": "python3"
  },
  "language_info": {
   "codemirror_mode": {
    "name": "ipython",
    "version": 3
   },
   "file_extension": ".py",
   "mimetype": "text/x-python",
   "name": "python",
   "nbconvert_exporter": "python",
   "pygments_lexer": "ipython3",
   "version": "3.9.12"
  }
 },
 "nbformat": 4,
 "nbformat_minor": 5
}
